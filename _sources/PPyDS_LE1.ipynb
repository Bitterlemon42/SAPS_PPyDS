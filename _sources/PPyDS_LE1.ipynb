{
 "cells": [
  {
   "cell_type": "markdown",
   "metadata": {},
   "source": [
    "# LE1 - Grundlagen von Python"
   ]
  },
  {
   "cell_type": "markdown",
   "metadata": {},
   "source": [
    "Herzlich Willkommen zur **Lerneinheit 1 - Grundlagen von Python** des Kurses *Einführung in die Programmierung mit Python für Data Science*.\n",
    "\n",
    "Das Material dieses Skripts orientiert sich u.a. an [diesem Guide](https://python3.guide/). Viele weitere exzellente Guides und Hilfestellungen finden sich beispielsweise auf der offiziellen [Wiki-Seite](https://wiki.python.org/moin/BeginnersGuide)."
   ]
  },
  {
   "cell_type": "markdown",
   "metadata": {},
   "source": [
    "## Inhaltsübersicht\n",
    "- [Grundlegendes zu Python](#Grundlegendes-zu-Python)\n",
    "    - [Besondere Merkmale](#Besondere-Merkmale)\n",
    "- [Installation von Python](#Installation-von-Python)\n",
    "    - [Version](#Version)\n",
    "    - [Installation](#Installation)\n",
    "- [Ausführung von Python-Code](#Ausführung-von-Python-Code)\n",
    "- [Erste Zeilen Code](#Erste-Zeilen-Code)\n",
    "    - [Hello World](#\"Hello-World\")\n",
    "    - [Python als Taschenrechner](#Python-asl-Taschenrechner)\n",
    "    - [Variablen und Ausdrücke](#Variablen-und-Ausdrücke)\n",
    "- [Übungen LE1](#Übungen-LE1)\n",
    "    - [Genereller Hinweis](#Genereller-Hinweis-zu-den-Übungen-und-zur-Programmierung-allgemein)"
   ]
  },
  {
   "cell_type": "markdown",
   "metadata": {},
   "source": [
    "## Grundlegendes zu Python"
   ]
  },
  {
   "cell_type": "markdown",
   "metadata": {},
   "source": [
    "![Python Logo](./img/python_logo.png)"
   ]
  },
  {
   "cell_type": "markdown",
   "metadata": {},
   "source": [
    "[Bildquelle](https://www.python.org/)"
   ]
  },
  {
   "cell_type": "markdown",
   "metadata": {},
   "source": [
    "Python ist eine *Computer-Programmiersprache*, ein *Vokabular* und ein Satz *grammatikalischer Regeln*, mit denen ein Computer angewiesen wird, Aufgaben auszuführen. Sie ist nicht etwa nach der Schlange, sondern nach der BBC-Fernsehsendung \"Monty Python's Flying Circus\" benannt.\n",
    "\n",
    "Python kann verwendet werden, um Aufgaben zu automatisieren, Berechnungen durchzuführen, Benutzeroberflächen zu erstellen, Website-Backends zu erstellen, auf Datenbanken zuzugreifen, Informationen aus dem Internet herunterzuladen und vieles mehr. Es ist eine vielseitige Sprache, die leicht zu erlernen und zu schreiben ist. Sie eignet sich perfekt für Programmieranfänger, ist aber ebenso nützlich und leistungsstark für erfahrene Profis.\n",
    "\n",
    "Python verfolgt eine *\\\"Batteries Included\\\"*-Philosophie - das bedeutet, das Python eine umfassende Basisbibliothek bereitstellt, welche von unzähligen [externen Paketen](https://www.python.org/about/apps/) ergänzt wird. Dadurch können unterstützende Basisbibliotheken und externe Pakete für so ziemlich alles gefunden werden, was man mit Python erreichen will."
   ]
  },
  {
   "cell_type": "markdown",
   "metadata": {},
   "source": [
    "Im Bereich der **Data Science** ist Python vermutlich das meist genutzte Werkzeug:\n",
    "\n",
    "![KD-Nuggets-Poll](./img/poll.jpg)"
   ]
  },
  {
   "cell_type": "markdown",
   "metadata": {},
   "source": [
    "[Bildquelle](https://www.kdnuggets.com/2019/05/poll-top-data-science-machine-learning-platforms.html)"
   ]
  },
  {
   "cell_type": "markdown",
   "metadata": {},
   "source": [
    "### Besondere Merkmale\n",
    "Nachfolgend werden einige der charakteristischen Merkmale von Python kurz erläutert:\n",
    "\n",
    "#### Leicht zu lesen und zu schreiben\n",
    "Eines der bemerkenswertesten Merkmale von Python ist die Art und Weise, wie es die Verwendung von Einrückungen für die Lesbarkeit durchsetzt. Ohne die richtige Einrückung wird der Code nicht einmal korrekt ausgeführt. In Python müssen alle Codeblöcke auf der gleichen Ebene eingerückt werden. Hier ist ein Beispiel dafür. Wenn Sie den Code noch nicht verstehen, machen Sie sich keine Sorgen:\n",
    "\n",
    "```python\n",
    "def größer_als_drei(x):\n",
    "  # Inhalte der Funktion sind eingerückt\n",
    "  if x > 3:\n",
    "    # Dieser Codeblock ist noch weiter eingerückt\n",
    "    print(\"X ist größer als drei\")\n",
    "  else:\n",
    "    # Und noch einer!\n",
    "    print(\"x ist drei oder kleiner\")\n",
    "```\n",
    "Da Einrückung erforderlich ist, benötigt Python keine Auszeichnungen (`{` und `}`) um Codeblöcke wie bei Java, C und C# zu gruppieren. Obwohl es sich um eine subjektive Angelegenheit handelt, ist man sich im Allgemeinen einig, dass Python dadurch leichter zu verstehen ist."
   ]
  },
  {
   "cell_type": "markdown",
   "metadata": {},
   "source": [
    "#### General purpose\n",
    "Python kann in vielen Situationen eingesetzt werden. Seine reichhaltige Basisbibliothek macht es ausgezeichnet für alle Arten von kleinen Hilfsskripten. Aber es skaliert genauso gut für große Systeme. YouTube wurde ursprünglich in Python geschrieben!\n",
    "\n",
    "Ein weiteres schnell wachsendes Fachgebiet ist die Data Science. Viele Data Scientist ([s.o.](KD-Nuggets-Poll)) verwenden Python für ihre tägliche Arbeit. Und dies sind nur einige wenige Beispiele. Wenn man genau hinsieht, ist Python recht allgegenwärtig."
   ]
  },
  {
   "cell_type": "markdown",
   "metadata": {},
   "source": [
    "#### Interpreted und nicht compiled\n",
    "Python-Code wird vom Python-Interpreter \"on-the-fly\" **interpretiert**, wenn ein Programm ausführt wird. Dies bedeutet, dass der Python-Interpreter die Datei öffnet und beginnt, sie Zeile für Zeile zu lesen, wobei er für jede Anweisung die entsprechenden Aktionen ausführt. Wenn der Python-Interpreter beispielsweise auf ```print(\"Hallo\")``` im Code stößt, nimmt er die bereitgestellte Zeichenkette und leitet sie an eine interne Funktion weiter, die den Text auf dem Bildschirm ausgibt.\n",
    "\n",
    "Dies ist ein völlig anderer Ansatz als kompilierte Sprachen wie C. C-Code wird in Low-Level-Maschinencode kompiliert, der direkt vom Prozessor des Computers ausgeführt werden kann. Dies wird auch als **ahead-of-time compilation (AOT)** bezeichnet. Da es keinen Interpreter gibt, der als Vermittler fungiert, ist kompilierter Code viel schneller."
   ]
  },
  {
   "cell_type": "markdown",
   "metadata": {},
   "source": [
    "Als interpretierte Sprache hat Python einige Vorteile:\n",
    "\n",
    "* Der Code kann in einem Texteditor geschrieben und **direkt ausgeführt** werden. Es sind keine zusätzlichen Schritte wie Kompilierung und Verlinkung notwendig.\n",
    "* Da es sich um reinen Text handelt, kann ein Programm einfach geöffnet und sein Inhalt inspiziert werden. Im Gegensatz dazu ist kompilierter Code nicht **menschenlesbar**.\n",
    "* Sie ist **plattformunabhängig**. Solange die Plattform über einen Python-Interpreter verfügt, wird der Code funktionieren. Kompilierter Code ist an eine bestimmte Plattform, wie Windows und Linux, und an eine bestimmte Prozessorarchitektur, wie Intel oder ARM, gebunden.\n",
    "\n",
    "Einige dieser Vorteile können auch von *Nachteil* sein. Wie bereits erwähnt, sind interpretierte Sprachen keine Hochleistungssprachen. Auch die Tatsache, dass der Quellcode leicht zu lesen und zu modifizieren ist, ist kein Vorteil für Anbieter, die ihr Urheberrecht schützen wollen.\n",
    "\n",
    "Kurz gesagt, jede Sprache hat ihre Vor- und Nachteile und spezifische Nischen - Python hat sich in vielen Situationen als sehr brauchbar erwiesen."
   ]
  },
  {
   "cell_type": "markdown",
   "metadata": {},
   "source": [
    "#### Dynamische Typisierung\n",
    "Ein weiterer Vorteil einer interpretierten Sprache ist, dass sie die Tür zur dynamischen Typisierung öffnet. Was bedeutet das also? Am einfachsten ist das mithilfe von Code zu verstehen.\n",
    "\n",
    "Nachfolgend einige Variablendeklarationen in Java:\n",
    "\n",
    "```java\n",
    "String myName = \"Paul\";\n",
    "int myAge = 43;\n",
    "float mySalary = 1200.50;\n",
    "```\n",
    "\n",
    "In einer stark typisierten Sprache muss der genaue Typ jeder Variablen angegeben werden, wie `String`, `int` und `float`. Es wird noch komplizierter, wenn Objekte beteiligt sind.\n",
    "\n",
    "In Python können wir genau dasselbe ohne Typen tun:\n",
    "\n",
    "```python\n",
    "my_name = \"Paul\"\n",
    "my_age = 43\n",
    "my_salary = 1200.50\n",
    "```\n",
    "\n",
    "Die Python-Variante ist viel sauberer und angenehmer für die Augen! Wenn dieser Code ausgeführt wird, findet Python dynamisch den Typ unserer Variablen heraus.\n",
    "\n",
    "Die dynamische Typisierung hat viele Vorteile. Im Allgemeinen erleichtert sie den schnellen Einstieg. Es kann aber auch argumentiert werden, dass sie fehleranfälliger ist. Eine stark typisierte Sprache wie Java lässt sich nicht kompilieren, wenn ein Tippfehler gemacht wird. Python wird wahrscheinlich weiterlaufen, aber die Ausgabe wird nicht wie erwartet sein. Daher gilt es, diese Fehler durch Tests früh ausfindig zu machen und zu beheben."
   ]
  },
  {
   "cell_type": "markdown",
   "metadata": {},
   "source": [
    "## Installation von Python"
   ]
  },
  {
   "cell_type": "markdown",
   "metadata": {},
   "source": [
    "### Version\n",
    "Python tritt häufig in zwei verschiedenen Versionen auf: Python **2.x** und Python **3.x**. Da der Support für ältere Version 2 mittlerweile eingestellt wurde, verwenden wir für diesen Kurs die aktuelle Version 3 von Python. Dies ist aufgrund der Aktualität und des größeren Funktionsumfangs auch für alle zukünftigen Projekte zu empfehlen! Achtung: Python 3 ist *nicht abwärtskompatibel*."
   ]
  },
  {
   "cell_type": "markdown",
   "metadata": {},
   "source": [
    "### Installation\n",
    "Je nach Betriebssystem lässt sich Python auf [unterschiedliche Arten](https://realpython.com/installing-python/) installieren, wobei es diverse Vor- und Nachteile gibt. Für diesen Kurs wird die Installation von Python über die Python Distribution **Anaconda** empfohlen. Anaconda ist eine kostenlose open-source Distribution, welche den Paket- und Umgebungsmanager **conda** beinhaltet. Dies vereinfacht die Installation von Python und weiteren Paketen/Bibliotheken erheblich. Da dieser Kurs allerdings große Teile der Anaconda Distribution nicht benötigt, verwenden wir den Minimal-Installer [miniconda](https://docs.conda.io/en/latest/miniconda.html). Die offiziellen Installationshinweise für *Windows*, *MacOSX* und *Linux* gibt es [hier](https://conda.io/projects/conda/en/latest/user-guide/install/index.html). Die Installation unter **Linux** funktioniert wie folgt:\n",
    "1. Download des [Miniconda-Installers](https://docs.conda.io/en/latest/miniconda.html#linux-installers)\n",
    "2. Ausführen des Installationsskriptes im Terminal mit:\n",
    "```\n",
    "bash Miniconda3-latest-Linux-x86_64.sh\n",
    "```\n",
    "3. Den Anweisungen des Skriptes folgen. Das Ausführen der `conda init` wird empfohlen.\n",
    "4. Öffnen und Schließen des Terminalfensters um die Änderungen wirksam zu machen.\n",
    "5. Test der Installation, zB durch `conda list`.\n",
    "6. Update der durch conda installierten Pakete mit `conda update conda`.\n",
    "\n",
    "**Hinweis:**\n",
    "Python kann auch [Online](https://repl.it/languages/python3) im Browser ausgeführt werden. Dies kann eine gute Alternative sein, um schnell und systemunabhängig etwas zu testen. Für die Durchführung dieses Kurses sollte allerdings eine lokale Installation erfolgen."
   ]
  },
  {
   "cell_type": "markdown",
   "metadata": {},
   "source": [
    "### <span style=\"color:red\">Hands-on Übung</span>"
   ]
  },
  {
   "cell_type": "markdown",
   "metadata": {},
   "source": [
    "Führen Sie nun auf Ihrem System eine Python-Installation mithilfe der Miniconda Distribution durch!"
   ]
  },
  {
   "cell_type": "markdown",
   "metadata": {},
   "source": [
    "## Ausführung von Python-Code\n",
    "Dieser Abschnitt erläutert verschiedene Methoden um Python-Code auszuführen."
   ]
  },
  {
   "cell_type": "markdown",
   "metadata": {},
   "source": [
    "### Interpreter/REPL\n",
    "Die einfachste Variante um Python-Code auszuführen, führt direkt über den installierten Python-Interpreter - auch *REPL (Read-eval-print-loop)* genannt in Form einer interaktiven Shell. Der Interpreter kann nach erfolgreicher Installation direkt über das Terminal durch Eingabe von `python` gestartet werden. Jeglicher Code kann anschließend durch eine schlichte Eingabe ausgeführt werden. Dieser Prozess ist *interaktiv*, da der Code direkt evaluiert und ausgeführt wird.\n",
    "\n",
    "REPL eignet sich für kleinere Kalkulationen und das Ausprobieren von Codeschnipseln, hat in der Praxis aber kaum Relevanz, da die Programmierung zu unübersichtlich ist. Eine bessere Alternative ist `IPython`."
   ]
  },
  {
   "cell_type": "markdown",
   "metadata": {},
   "source": [
    "![REPL](./img/repl_example.png)"
   ]
  },
  {
   "cell_type": "markdown",
   "metadata": {},
   "source": [
    "### IPython\n",
    "[IPython](https://ipython.org/) kann als direktes Update zur interaktiven Shell gesehen werden. Nach erfolgreicher Installation mittels `conda install ipython` kann IPython durch Eingabe von `ipython` aus der Konsole heraus gestartet werden. Die Vorteile von IPython sind:\n",
    "\n",
    "* Syntax Highlighting\n",
    "* Tab-completion\n",
    "* Historie über Pfeiltasten abrufbar\n",
    "* Zusätzliche nützliche Features über \"Magic-commands\" (wie `?` oder `%`)"
   ]
  },
  {
   "cell_type": "markdown",
   "metadata": {},
   "source": [
    "![IPython](./img/ipython_example.png)"
   ]
  },
  {
   "cell_type": "markdown",
   "metadata": {},
   "source": [
    "### .py-Skripte\n",
    "Python-Code kann auch klassisch in eine Textdatei mit der Dateiendung `.py` geschrieben werden. Das *Skript* kann dann aus dem Terminal heraus aufgerufen werden, indem das Keyword `python` vorangestellt wird, z.B: `python myscript.py`. Durch das Anlegen und Speichern von Skripten kann das eigene Programm besser organisiert und abgespeichert werden, als dies durch simple Eingabe in der Konsole möglich ist. "
   ]
  },
  {
   "cell_type": "markdown",
   "metadata": {},
   "source": [
    "![Skript](./img/script_example.png)"
   ]
  },
  {
   "cell_type": "markdown",
   "metadata": {},
   "source": [
    "### IDEs\n",
    "Eine **integrierte Entwicklungsumgebung** (**IDE**, engl. *integrated development environment*) ist das Rückgrat modernen Softwareentwicklung. IDEs stellen viele Werkzeuge und (grafische) Hilfsmittel zur Verfügung um die Programmierung zu erleichtern. Wir werden im Rahmen dieses Kurses noch zwei IDEs kennenlernen: das eher klassische [Spyder](https://www.spyder-ide.org/) und das webbasierte [Jupyter](https://jupyter.org/)."
   ]
  },
  {
   "cell_type": "markdown",
   "metadata": {},
   "source": [
    "## Erste Zeilen Code\n",
    "Es wird Zeit für die ersten eigenen Zeilen Code! Diese können bequem in der interaktiven Python Shell ausgeführt werden. Die Eingabe erfolgt nach den drei Pfeilen (`>>>`)."
   ]
  },
  {
   "cell_type": "markdown",
   "metadata": {},
   "source": [
    "### \"Hello World\""
   ]
  },
  {
   "cell_type": "markdown",
   "metadata": {},
   "source": [
    "Da die interaktive Python Shell jeglichen Code direkt evaluiert und ausführt, können wir *Strings* (also eine Verkettung von Zeichen) einfach eingeben und diese erscheinen dann in der Ausgabe:"
   ]
  },
  {
   "cell_type": "code",
   "execution_count": 9,
   "metadata": {},
   "outputs": [
    {
     "data": {
      "text/plain": [
       "'Hello World'"
      ]
     },
     "execution_count": 9,
     "metadata": {},
     "output_type": "execute_result"
    }
   ],
   "source": [
    "\"Hello World\""
   ]
  },
  {
   "cell_type": "markdown",
   "metadata": {},
   "source": [
    "Es ist zu beachten, dass wir Python den String als solchen durch die *Anführungszeichen* kenntlich machen müssen - ansonsten interpretiert Python unsere Eingabe als Variable und es kommt zu einem Fehler:"
   ]
  },
  {
   "cell_type": "markdown",
   "metadata": {},
   "source": [
    "![Syntax_Error_1](./img/syntax_error_1.png)"
   ]
  },
  {
   "cell_type": "markdown",
   "metadata": {},
   "source": [
    "Hier bekommen wir einen *Syntaxfehler*, da Variablen nicht aus zwei Wörtern bestehen dürfen. In Python kann ein String sowohl mit *einfachen*, als auch *normalen Anführungszeichen* gekennzeichnet werden."
   ]
  },
  {
   "cell_type": "markdown",
   "metadata": {},
   "source": [
    "Normalerweise wollen wir eine Ausgabe allerdings kontrolliert steuern und verwenden dafür die `print()`-Funktion:"
   ]
  },
  {
   "cell_type": "code",
   "execution_count": 13,
   "metadata": {},
   "outputs": [
    {
     "name": "stdout",
     "output_type": "stream",
     "text": [
      "Hello World\n"
     ]
    }
   ],
   "source": [
    "print(\"Hello World\")"
   ]
  },
  {
   "cell_type": "markdown",
   "metadata": {},
   "source": [
    "### <span style=\"color:red\">Hands-on Übung</span>"
   ]
  },
  {
   "cell_type": "markdown",
   "metadata": {},
   "source": [
    "Lassen Sie Ihren *Vor- und Nachnamen* jeweils auf verschiedene Arten durch Python ausgeben:\n",
    "* Interpreter/REPL\n",
    "* IPython-Konsole\n",
    "* Als `.py`-Skript"
   ]
  },
  {
   "cell_type": "markdown",
   "metadata": {},
   "source": [
    "### Python als Taschenrechner"
   ]
  },
  {
   "cell_type": "markdown",
   "metadata": {},
   "source": [
    "Rechenoperationen können direkt von Python als solche interpretiert werden. Dadurch erhält man einen einfachen Taschenrechner:"
   ]
  },
  {
   "cell_type": "code",
   "execution_count": 4,
   "metadata": {},
   "outputs": [
    {
     "data": {
      "text/plain": [
       "3"
      ]
     },
     "execution_count": 4,
     "metadata": {},
     "output_type": "execute_result"
    }
   ],
   "source": [
    "1 + 2"
   ]
  },
  {
   "cell_type": "markdown",
   "metadata": {},
   "source": [
    "Python kennt alle Standardoperatoren und berücksichtigt Klammern bei der Reihenfolge der Ausführung:"
   ]
  },
  {
   "cell_type": "code",
   "execution_count": 5,
   "metadata": {},
   "outputs": [
    {
     "data": {
      "text/plain": [
       "11"
      ]
     },
     "execution_count": 5,
     "metadata": {},
     "output_type": "execute_result"
    }
   ],
   "source": [
    "2 + 3 * 3"
   ]
  },
  {
   "cell_type": "code",
   "execution_count": 6,
   "metadata": {},
   "outputs": [
    {
     "data": {
      "text/plain": [
       "15"
      ]
     },
     "execution_count": 6,
     "metadata": {},
     "output_type": "execute_result"
    }
   ],
   "source": [
    "(2 + 3) * 3"
   ]
  },
  {
   "cell_type": "code",
   "execution_count": 7,
   "metadata": {},
   "outputs": [
    {
     "data": {
      "text/plain": [
       "8.0"
      ]
     },
     "execution_count": 7,
     "metadata": {},
     "output_type": "execute_result"
    }
   ],
   "source": [
    "2 / 2 * 8"
   ]
  },
  {
   "cell_type": "markdown",
   "metadata": {},
   "source": [
    "### <span style=\"color:red\">Hands-on Übung</span>"
   ]
  },
  {
   "cell_type": "markdown",
   "metadata": {},
   "source": [
    "Berechnen Sie mithilfe von Python:\n",
    "\n",
    "```\n",
    "In Baden-Württemberg leben rund 11,1 Millionen Menschen. Der Anteil der weiblichen Bevölkerung beträgt 50,2 Prozent. Um wieviel übersteigt die absolute Anzahl der Frauen die der Männer?\n",
    "```"
   ]
  },
  {
   "cell_type": "markdown",
   "metadata": {},
   "source": [
    "### Variablen und Ausdrücke"
   ]
  },
  {
   "cell_type": "markdown",
   "metadata": {},
   "source": [
    "Da wir nun wissen, wie man Python als Taschenrechner verwenden kann, wäre es doch sinnvoll, wenn wir das Ergebnis unserer Rechnung speichern könnten. Dazu werden in Python **Variablen** verwendet. Eine Variable wird verwendet um *Informationen zu speichern*, auf welche später wieder zugegriffen werden kann. Legen wir daher eine Variable `ergebnis` an:"
   ]
  },
  {
   "cell_type": "code",
   "execution_count": 19,
   "metadata": {},
   "outputs": [
    {
     "data": {
      "text/plain": [
       "10"
      ]
     },
     "execution_count": 19,
     "metadata": {},
     "output_type": "execute_result"
    }
   ],
   "source": [
    "ergebnis = 2 * 5\n",
    "ergebnis"
   ]
  },
  {
   "cell_type": "markdown",
   "metadata": {},
   "source": [
    "Hier passiert folgendes:\n",
    "* Python erkennt die erste Zeile als eine **Zuweisung**: Wir weisen das Ergebnis von 2*5 der Variable `ergebnis` zu\n",
    "* In der zweiten Zeile schreiben wir `ergebnis`\n",
    "* Python erkennt `ergebnis` nicht als Befehl und sucht daher nach einer Variablen mit diesem Namen. Es gibt sie und wir haben ihr 10 zugewiesen. Daher wird diese Zeile zu 10 evaluiert und ausgegeben. "
   ]
  },
  {
   "cell_type": "markdown",
   "metadata": {},
   "source": [
    "Der Name unserer Variablen ist dabei arbiträr gewählt. Variablennamen in Python können aus Groß- und Kleinbuchstaben, Zahlen und dem Unterstrich (\\_) bestehen. Eine Variable muss allerdings immer mit einem **Buchstaben beginnen**:"
   ]
  },
  {
   "cell_type": "markdown",
   "metadata": {},
   "source": [
    "![Syntax_error_2](./img/syntax_error_2.png)"
   ]
  },
  {
   "cell_type": "markdown",
   "metadata": {},
   "source": [
    "Weiterhin wird die **Groß- und Kleinschreibung** berücksichtigt: "
   ]
  },
  {
   "cell_type": "code",
   "execution_count": 22,
   "metadata": {},
   "outputs": [],
   "source": [
    "alter = 1\n",
    "Alter = 2\n",
    "aLter = 3"
   ]
  },
  {
   "cell_type": "code",
   "execution_count": 23,
   "metadata": {},
   "outputs": [
    {
     "name": "stdout",
     "output_type": "stream",
     "text": [
      "1 2 3\n"
     ]
    }
   ],
   "source": [
    "print(alter, Alter, aLter)"
   ]
  },
  {
   "cell_type": "markdown",
   "metadata": {},
   "source": [
    "Als Daumenregel sollten immer Namen gewählt werden, die die jeweilige Variable am besten beschreiben. Dabei bietet sich an, sich an die Richtlinien des offiziellen [Style Guide for Python Code](https://www.python.org/dev/peps/pep-0008/) (**PEP 8**) zu halten. Python enthält ebenfalls *reservierte Keywords*, welche **nicht** als Variablennamen verwendet werden können(siehe [diese Liste](https://www.w3schools.com/python/python_ref_keywords.asp))."
   ]
  },
  {
   "cell_type": "markdown",
   "metadata": {},
   "source": [
    "Variablen sind ein entscheidender Teil jeder Programmiersprache, da Sie auch in anderen **Ausdrücken** verwendet werden können:"
   ]
  },
  {
   "cell_type": "code",
   "execution_count": 26,
   "metadata": {},
   "outputs": [
    {
     "data": {
      "text/plain": [
       "30"
      ]
     },
     "execution_count": 26,
     "metadata": {},
     "output_type": "execute_result"
    }
   ],
   "source": [
    "ergebnis * 3"
   ]
  },
  {
   "cell_type": "code",
   "execution_count": 25,
   "metadata": {},
   "outputs": [
    {
     "data": {
      "text/plain": [
       "0"
      ]
     },
     "execution_count": 25,
     "metadata": {},
     "output_type": "execute_result"
    }
   ],
   "source": [
    "ergebnis - ergebnis"
   ]
  },
  {
   "cell_type": "markdown",
   "metadata": {},
   "source": [
    "Ein **Ausdruck** ist dabei alles, was Python als einen Wert evaluieren kann."
   ]
  },
  {
   "cell_type": "markdown",
   "metadata": {},
   "source": [
    "## Übungen LE1"
   ]
  },
  {
   "cell_type": "markdown",
   "metadata": {},
   "source": [
    "### Genereller Hinweis zu den Übungen und zur Programmierung allgemein"
   ]
  },
  {
   "cell_type": "markdown",
   "metadata": {},
   "source": [
    "Manche Werkzeuge, welche Sie für die Bearbeitung der Übungen benötigen, finden Sie explizit *nicht* im Theorieteil dieses Kurses. Das Suchen und Finden von Lösungen für Programmieraufgaben jeglicher Art haben sich als essentielle Fähigkeiten beim Schreiben von Software hervorgetan. Durch große Communities wie [Stack Overflow](https://stackoverflow.com/) ist die Wahrscheinlichkeit groß, dass das vorliegende Problem schon einmal aufgetaucht ist und gelöst wurde. \n",
    "\n",
    "![Stackoverflow](./img/stackoverflow.png)"
   ]
  },
  {
   "cell_type": "markdown",
   "metadata": {},
   "source": [
    "[Bildquelle](https://www.facebook.com/techindustan\">Bildquelle)"
   ]
  },
  {
   "cell_type": "markdown",
   "metadata": {},
   "source": [
    "*Modernes Programmieren* besteht daher zu einem nicht unerheblichen Teil aus der Suche nach Lösungen zu einem zumindest *verwandten* Problem. In diesem Sinne: Seien Sie nicht zögerlich ihre Frage zu googlen!\n",
    "\n",
    "Hier noch einige allgemein nützliche Ressourcen rund um Python:\n",
    "* [Offizielle Python Dokumentation](https://docs.python.org/3/)\n",
    "* [w3schools Python Guide](https://www.w3schools.com/python/)\n",
    "* [The Hitchhiker's Guide to Python](https://docs.python-guide.org/)\n",
    "* [Towards Data Science Blogposts auf Medium](https://towardsdatascience.com/)"
   ]
  },
  {
   "cell_type": "markdown",
   "metadata": {},
   "source": [
    "### 1.1 Korrekte Python-Installation"
   ]
  },
  {
   "cell_type": "markdown",
   "metadata": {},
   "source": [
    "* Führen Sie eine Python-Installation mittels `miniconda` durch.\n",
    "* Prüfen Sie anschließend die Korrektheit und Version mittels `which` und `python --version`, sowie `conda list`."
   ]
  },
  {
   "cell_type": "markdown",
   "metadata": {},
   "source": [
    "### 1.2 Interaktive Python Shell"
   ]
  },
  {
   "cell_type": "markdown",
   "metadata": {},
   "source": [
    "* Öffnen Sie eine interaktive Python Shell und geben Sie `5+5` ein. Was passiert beim ausführen? Erläutern Sie die Schritte des REPL-Prozesses anhand dieses  einfachen Beispiels.\n",
    "* Verwenden Sie Python als Taschenrechner. Welche Rechenoperationen werden durch die Operatoren `%`, `//` und `**` ausgeführt?"
   ]
  },
  {
   "cell_type": "markdown",
   "metadata": {},
   "source": [
    "### 1.3 Python Skript"
   ]
  },
  {
   "cell_type": "markdown",
   "metadata": {},
   "source": [
    "* Lösen Sie folgende Rechenaufgabe in Python:\n",
    "\n",
    "*Der Preis eines Buches beträgt 24,95 €, aber Buchläden erhalten beim Bezug einen Rabatt von 40%. Die Versandkosten betragen 3 € für das erste Exemplar und 75 Cent für jedes weitere Exemplar. Wie hoch sind die gesamten Großhandelskosten für 60 Exemplare? Steuereffekte werden nicht berücksichtigt.*\n",
    "\n",
    "* Verwenden Sie für die Lösung entsprechende **Variablen** und **Ausdrücke**. Schreiben Sie ihre Lösung als **Skript** und speichern dieses als `.py`-Datei ab. Nach Aufruf des Skripts sollte eine **formatierte Ausgabe** mit dem Ergebnis erscheinen. Finden Sie dabei einen Weg, wie Sie sowohl Text, als auch Variablen in einem `print()`-Befehl ausgeben können."
   ]
  }
 ],
 "metadata": {
  "kernelspec": {
   "display_name": "Python 3",
   "language": "python",
   "name": "python3"
  },
  "language_info": {
   "codemirror_mode": {
    "name": "ipython",
    "version": 3
   },
   "file_extension": ".py",
   "mimetype": "text/x-python",
   "name": "python",
   "nbconvert_exporter": "python",
   "pygments_lexer": "ipython3",
   "version": "3.8.5"
  }
 },
 "nbformat": 4,
 "nbformat_minor": 4
}
